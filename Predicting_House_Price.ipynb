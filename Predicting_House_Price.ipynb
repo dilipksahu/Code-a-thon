{
 "cells": [
  {
   "cell_type": "markdown",
   "metadata": {},
   "source": [
    "![title](images.jpg)"
   ]
  },
  {
   "cell_type": "markdown",
   "metadata": {},
   "source": [
    "## Overview"
   ]
  },
  {
   "cell_type": "markdown",
   "metadata": {},
   "source": [
    "<p>In this notebook we will cover the following linear algorithms:</p>\n",
    "    <ol>\n",
    "        <li>Simple Linear Regression</li>\n",
    "        <li>Multiple Linear Regression</li>\n",
    "        <li>Ridge Regression</li>\n",
    "        <li>Lasso Regression</li>\n",
    "        <li>Polynimial Regression</li>\n",
    "        <li>KNN Regression</li>\n",
    "    </ol>\n",
    " <p>We are going to use the dataset has details of 6830 house entries with the following 16 features. Since house price is a continues variable, this is a regression problem.</p>\n",
    " <p>The data contains the columns:</p>\n",
    "     <ul>\n",
    "        <li>Rooms: Number of rooms</li>\n",
    "        <li>Type: Property type</li>\n",
    "        <li>Price: Price in dollars</li>\n",
    "        <li>Method: Property status</li>\n",
    "        <li>SellerG: Real Estate Agent</li>\n",
    "        <li>Distance: Distance from CBD</li>\n",
    "        <li>Postcode: Code of the area</li>\n",
    "        <li>Bathroom: Number og Bathrooms</li>\n",
    "        <li>Car: Number of Carspots</li>\n",
    "        <li>Landsize: Land Size</li>\n",
    "        <li>BuildingArea: Building Size</li>\n",
    "        <li>YearBuilt: The Year in which home was built</li>\n",
    "        <li>CoucilArea: Governing council for the area</li>\n",
    "        <li>Longitude: The angular distance of a place east or west</li>\n",
    "        <li>Regionname: General Region(West,North-West,North,Nort-east...etc)</li>\n",
    "        <li>PropertyCount: Number of properties that exist in the suburb</li>\n",
    "     </ul>"
   ]
  },
  {
   "cell_type": "markdown",
   "metadata": {},
   "source": [
    "## Import Libraries"
   ]
  },
  {
   "cell_type": "code",
   "execution_count": 5,
   "metadata": {
    "scrolled": true
   },
   "outputs": [],
   "source": [
    "import pandas as pd\n",
    "import numpy as np\n",
    "import matplotlib.pyplot as plt\n",
    "import seaborn as sns\n",
    "%matplotlib inline\n",
    "import warnings\n",
    "warnings.filterwarnings('ignore')\n",
    "\n",
    "sns.set_style(\"whitegrid\")\n",
    "plt.style.use(\"fivethirtyeight\")"
   ]
  },
  {
   "cell_type": "code",
   "execution_count": 95,
   "metadata": {
    "scrolled": true
   },
   "outputs": [],
   "source": [
    "from sklearn.model_selection import train_test_split\n",
    "from sklearn.linear_model import LinearRegression\n",
    "from sklearn.preprocessing import PolynomialFeatures\n",
    "from sklearn import metrics\n",
    "from sklearn.model_selection import cross_val_score\n",
    "from sklearn.linear_model import Ridge,Lasso\n",
    "from sklearn.preprocessing import StandardScaler\n",
    "from sklearn.neighbors import KNeighborsRegressor"
   ]
  },
  {
   "cell_type": "markdown",
   "metadata": {},
   "source": [
    "#### Check out the Data"
   ]
  },
  {
   "cell_type": "code",
   "execution_count": 49,
   "metadata": {
    "scrolled": true
   },
   "outputs": [],
   "source": [
    "housing = pd.read_csv(\"house.csv\")"
   ]
  },
  {
   "cell_type": "code",
   "execution_count": 50,
   "metadata": {
    "scrolled": true
   },
   "outputs": [
    {
     "data": {
      "text/html": [
       "<div>\n",
       "<style scoped>\n",
       "    .dataframe tbody tr th:only-of-type {\n",
       "        vertical-align: middle;\n",
       "    }\n",
       "\n",
       "    .dataframe tbody tr th {\n",
       "        vertical-align: top;\n",
       "    }\n",
       "\n",
       "    .dataframe thead th {\n",
       "        text-align: right;\n",
       "    }\n",
       "</style>\n",
       "<table border=\"1\" class=\"dataframe\">\n",
       "  <thead>\n",
       "    <tr style=\"text-align: right;\">\n",
       "      <th></th>\n",
       "      <th>Rooms</th>\n",
       "      <th>Type</th>\n",
       "      <th>Price</th>\n",
       "      <th>Method</th>\n",
       "      <th>SellerG</th>\n",
       "      <th>Distance</th>\n",
       "      <th>Postcode</th>\n",
       "      <th>Bathroom</th>\n",
       "      <th>Car</th>\n",
       "      <th>Landsize</th>\n",
       "      <th>BuildingArea</th>\n",
       "      <th>YearBuilt</th>\n",
       "      <th>CouncilArea</th>\n",
       "      <th>Longtitude</th>\n",
       "      <th>Regionname</th>\n",
       "      <th>Propertycount</th>\n",
       "    </tr>\n",
       "  </thead>\n",
       "  <tbody>\n",
       "    <tr>\n",
       "      <td>0</td>\n",
       "      <td>2</td>\n",
       "      <td>0</td>\n",
       "      <td>1035000</td>\n",
       "      <td>1</td>\n",
       "      <td>23</td>\n",
       "      <td>2.5</td>\n",
       "      <td>3067</td>\n",
       "      <td>1</td>\n",
       "      <td>0</td>\n",
       "      <td>156</td>\n",
       "      <td>79.0</td>\n",
       "      <td>1900</td>\n",
       "      <td>31</td>\n",
       "      <td>144.9934</td>\n",
       "      <td>2</td>\n",
       "      <td>4019</td>\n",
       "    </tr>\n",
       "    <tr>\n",
       "      <td>1</td>\n",
       "      <td>3</td>\n",
       "      <td>0</td>\n",
       "      <td>1465000</td>\n",
       "      <td>3</td>\n",
       "      <td>23</td>\n",
       "      <td>2.5</td>\n",
       "      <td>3067</td>\n",
       "      <td>2</td>\n",
       "      <td>0</td>\n",
       "      <td>134</td>\n",
       "      <td>150.0</td>\n",
       "      <td>1900</td>\n",
       "      <td>31</td>\n",
       "      <td>144.9944</td>\n",
       "      <td>2</td>\n",
       "      <td>4019</td>\n",
       "    </tr>\n",
       "    <tr>\n",
       "      <td>2</td>\n",
       "      <td>4</td>\n",
       "      <td>0</td>\n",
       "      <td>1600000</td>\n",
       "      <td>4</td>\n",
       "      <td>155</td>\n",
       "      <td>2.5</td>\n",
       "      <td>3067</td>\n",
       "      <td>1</td>\n",
       "      <td>2</td>\n",
       "      <td>120</td>\n",
       "      <td>142.0</td>\n",
       "      <td>2014</td>\n",
       "      <td>31</td>\n",
       "      <td>144.9941</td>\n",
       "      <td>2</td>\n",
       "      <td>4019</td>\n",
       "    </tr>\n",
       "    <tr>\n",
       "      <td>3</td>\n",
       "      <td>3</td>\n",
       "      <td>0</td>\n",
       "      <td>1876000</td>\n",
       "      <td>1</td>\n",
       "      <td>155</td>\n",
       "      <td>2.5</td>\n",
       "      <td>3067</td>\n",
       "      <td>2</td>\n",
       "      <td>0</td>\n",
       "      <td>245</td>\n",
       "      <td>210.0</td>\n",
       "      <td>1910</td>\n",
       "      <td>31</td>\n",
       "      <td>144.9993</td>\n",
       "      <td>2</td>\n",
       "      <td>4019</td>\n",
       "    </tr>\n",
       "    <tr>\n",
       "      <td>4</td>\n",
       "      <td>2</td>\n",
       "      <td>0</td>\n",
       "      <td>1636000</td>\n",
       "      <td>1</td>\n",
       "      <td>155</td>\n",
       "      <td>2.5</td>\n",
       "      <td>3067</td>\n",
       "      <td>1</td>\n",
       "      <td>2</td>\n",
       "      <td>256</td>\n",
       "      <td>107.0</td>\n",
       "      <td>1890</td>\n",
       "      <td>31</td>\n",
       "      <td>144.9954</td>\n",
       "      <td>2</td>\n",
       "      <td>4019</td>\n",
       "    </tr>\n",
       "  </tbody>\n",
       "</table>\n",
       "</div>"
      ],
      "text/plain": [
       "   Rooms  Type    Price  Method  SellerG  Distance  Postcode  Bathroom  Car  \\\n",
       "0      2     0  1035000       1       23       2.5      3067         1    0   \n",
       "1      3     0  1465000       3       23       2.5      3067         2    0   \n",
       "2      4     0  1600000       4      155       2.5      3067         1    2   \n",
       "3      3     0  1876000       1      155       2.5      3067         2    0   \n",
       "4      2     0  1636000       1      155       2.5      3067         1    2   \n",
       "\n",
       "   Landsize  BuildingArea  YearBuilt  CouncilArea  Longtitude  Regionname  \\\n",
       "0       156          79.0       1900           31    144.9934           2   \n",
       "1       134         150.0       1900           31    144.9944           2   \n",
       "2       120         142.0       2014           31    144.9941           2   \n",
       "3       245         210.0       1910           31    144.9993           2   \n",
       "4       256         107.0       1890           31    144.9954           2   \n",
       "\n",
       "   Propertycount  \n",
       "0           4019  \n",
       "1           4019  \n",
       "2           4019  \n",
       "3           4019  \n",
       "4           4019  "
      ]
     },
     "execution_count": 50,
     "metadata": {},
     "output_type": "execute_result"
    }
   ],
   "source": [
    "housing.head()"
   ]
  },
  {
   "cell_type": "code",
   "execution_count": 9,
   "metadata": {
    "scrolled": false
   },
   "outputs": [
    {
     "name": "stdout",
     "output_type": "stream",
     "text": [
      "<class 'pandas.core.frame.DataFrame'>\n",
      "RangeIndex: 6830 entries, 0 to 6829\n",
      "Data columns (total 16 columns):\n",
      "Rooms            6830 non-null int64\n",
      "Type             6830 non-null int64\n",
      "Price            6830 non-null int64\n",
      "Method           6830 non-null int64\n",
      "SellerG          6830 non-null int64\n",
      "Distance         6830 non-null float64\n",
      "Postcode         6830 non-null int64\n",
      "Bathroom         6830 non-null int64\n",
      "Car              6830 non-null int64\n",
      "Landsize         6830 non-null int64\n",
      "BuildingArea     6830 non-null float64\n",
      "YearBuilt        6830 non-null int64\n",
      "CouncilArea      6830 non-null int64\n",
      "Longtitude       6830 non-null float64\n",
      "Regionname       6830 non-null int64\n",
      "Propertycount    6830 non-null int64\n",
      "dtypes: float64(3), int64(13)\n",
      "memory usage: 853.9 KB\n"
     ]
    }
   ],
   "source": [
    "housing.info()"
   ]
  },
  {
   "cell_type": "code",
   "execution_count": 8,
   "metadata": {
    "scrolled": false
   },
   "outputs": [
    {
     "data": {
      "text/html": [
       "<div>\n",
       "<style scoped>\n",
       "    .dataframe tbody tr th:only-of-type {\n",
       "        vertical-align: middle;\n",
       "    }\n",
       "\n",
       "    .dataframe tbody tr th {\n",
       "        vertical-align: top;\n",
       "    }\n",
       "\n",
       "    .dataframe thead th {\n",
       "        text-align: right;\n",
       "    }\n",
       "</style>\n",
       "<table border=\"1\" class=\"dataframe\">\n",
       "  <thead>\n",
       "    <tr style=\"text-align: right;\">\n",
       "      <th></th>\n",
       "      <th>count</th>\n",
       "      <th>mean</th>\n",
       "      <th>std</th>\n",
       "      <th>min</th>\n",
       "      <th>25%</th>\n",
       "      <th>50%</th>\n",
       "      <th>75%</th>\n",
       "      <th>max</th>\n",
       "    </tr>\n",
       "  </thead>\n",
       "  <tbody>\n",
       "    <tr>\n",
       "      <td>Rooms</td>\n",
       "      <td>6830.0</td>\n",
       "      <td>3.0</td>\n",
       "      <td>1.0</td>\n",
       "      <td>1.0</td>\n",
       "      <td>2.0</td>\n",
       "      <td>3.0</td>\n",
       "      <td>4.0</td>\n",
       "      <td>8.0</td>\n",
       "    </tr>\n",
       "    <tr>\n",
       "      <td>Type</td>\n",
       "      <td>6830.0</td>\n",
       "      <td>1.0</td>\n",
       "      <td>1.0</td>\n",
       "      <td>0.0</td>\n",
       "      <td>0.0</td>\n",
       "      <td>0.0</td>\n",
       "      <td>1.0</td>\n",
       "      <td>2.0</td>\n",
       "    </tr>\n",
       "    <tr>\n",
       "      <td>Price</td>\n",
       "      <td>6830.0</td>\n",
       "      <td>1077604.0</td>\n",
       "      <td>673320.0</td>\n",
       "      <td>131000.0</td>\n",
       "      <td>630000.0</td>\n",
       "      <td>890000.0</td>\n",
       "      <td>1334000.0</td>\n",
       "      <td>9000000.0</td>\n",
       "    </tr>\n",
       "    <tr>\n",
       "      <td>Method</td>\n",
       "      <td>6830.0</td>\n",
       "      <td>1.0</td>\n",
       "      <td>1.0</td>\n",
       "      <td>0.0</td>\n",
       "      <td>1.0</td>\n",
       "      <td>1.0</td>\n",
       "      <td>1.0</td>\n",
       "      <td>4.0</td>\n",
       "    </tr>\n",
       "    <tr>\n",
       "      <td>SellerG</td>\n",
       "      <td>6830.0</td>\n",
       "      <td>132.0</td>\n",
       "      <td>77.0</td>\n",
       "      <td>0.0</td>\n",
       "      <td>73.0</td>\n",
       "      <td>135.0</td>\n",
       "      <td>194.0</td>\n",
       "      <td>267.0</td>\n",
       "    </tr>\n",
       "    <tr>\n",
       "      <td>Distance</td>\n",
       "      <td>6830.0</td>\n",
       "      <td>10.0</td>\n",
       "      <td>6.0</td>\n",
       "      <td>0.0</td>\n",
       "      <td>6.0</td>\n",
       "      <td>9.0</td>\n",
       "      <td>13.0</td>\n",
       "      <td>47.0</td>\n",
       "    </tr>\n",
       "    <tr>\n",
       "      <td>Postcode</td>\n",
       "      <td>6830.0</td>\n",
       "      <td>3104.0</td>\n",
       "      <td>91.0</td>\n",
       "      <td>3000.0</td>\n",
       "      <td>3044.0</td>\n",
       "      <td>3083.0</td>\n",
       "      <td>3147.0</td>\n",
       "      <td>3977.0</td>\n",
       "    </tr>\n",
       "    <tr>\n",
       "      <td>Bathroom</td>\n",
       "      <td>6830.0</td>\n",
       "      <td>2.0</td>\n",
       "      <td>1.0</td>\n",
       "      <td>1.0</td>\n",
       "      <td>1.0</td>\n",
       "      <td>1.0</td>\n",
       "      <td>2.0</td>\n",
       "      <td>8.0</td>\n",
       "    </tr>\n",
       "    <tr>\n",
       "      <td>Car</td>\n",
       "      <td>6830.0</td>\n",
       "      <td>2.0</td>\n",
       "      <td>1.0</td>\n",
       "      <td>0.0</td>\n",
       "      <td>1.0</td>\n",
       "      <td>2.0</td>\n",
       "      <td>2.0</td>\n",
       "      <td>10.0</td>\n",
       "    </tr>\n",
       "    <tr>\n",
       "      <td>Landsize</td>\n",
       "      <td>6830.0</td>\n",
       "      <td>487.0</td>\n",
       "      <td>911.0</td>\n",
       "      <td>0.0</td>\n",
       "      <td>167.0</td>\n",
       "      <td>404.0</td>\n",
       "      <td>641.0</td>\n",
       "      <td>37000.0</td>\n",
       "    </tr>\n",
       "    <tr>\n",
       "      <td>BuildingArea</td>\n",
       "      <td>6830.0</td>\n",
       "      <td>143.0</td>\n",
       "      <td>90.0</td>\n",
       "      <td>0.0</td>\n",
       "      <td>93.0</td>\n",
       "      <td>126.0</td>\n",
       "      <td>173.0</td>\n",
       "      <td>3112.0</td>\n",
       "    </tr>\n",
       "    <tr>\n",
       "      <td>YearBuilt</td>\n",
       "      <td>6830.0</td>\n",
       "      <td>1964.0</td>\n",
       "      <td>38.0</td>\n",
       "      <td>1196.0</td>\n",
       "      <td>1940.0</td>\n",
       "      <td>1970.0</td>\n",
       "      <td>2000.0</td>\n",
       "      <td>2018.0</td>\n",
       "    </tr>\n",
       "    <tr>\n",
       "      <td>CouncilArea</td>\n",
       "      <td>6830.0</td>\n",
       "      <td>14.0</td>\n",
       "      <td>10.0</td>\n",
       "      <td>-1.0</td>\n",
       "      <td>2.0</td>\n",
       "      <td>15.0</td>\n",
       "      <td>23.0</td>\n",
       "      <td>32.0</td>\n",
       "    </tr>\n",
       "    <tr>\n",
       "      <td>Longtitude</td>\n",
       "      <td>6830.0</td>\n",
       "      <td>145.0</td>\n",
       "      <td>0.0</td>\n",
       "      <td>145.0</td>\n",
       "      <td>145.0</td>\n",
       "      <td>145.0</td>\n",
       "      <td>145.0</td>\n",
       "      <td>146.0</td>\n",
       "    </tr>\n",
       "    <tr>\n",
       "      <td>Regionname</td>\n",
       "      <td>6830.0</td>\n",
       "      <td>4.0</td>\n",
       "      <td>2.0</td>\n",
       "      <td>0.0</td>\n",
       "      <td>2.0</td>\n",
       "      <td>5.0</td>\n",
       "      <td>5.0</td>\n",
       "      <td>7.0</td>\n",
       "    </tr>\n",
       "    <tr>\n",
       "      <td>Propertycount</td>\n",
       "      <td>6830.0</td>\n",
       "      <td>7434.0</td>\n",
       "      <td>4352.0</td>\n",
       "      <td>389.0</td>\n",
       "      <td>4381.0</td>\n",
       "      <td>6567.0</td>\n",
       "      <td>10175.0</td>\n",
       "      <td>21650.0</td>\n",
       "    </tr>\n",
       "  </tbody>\n",
       "</table>\n",
       "</div>"
      ],
      "text/plain": [
       "                count       mean       std       min       25%       50%  \\\n",
       "Rooms          6830.0        3.0       1.0       1.0       2.0       3.0   \n",
       "Type           6830.0        1.0       1.0       0.0       0.0       0.0   \n",
       "Price          6830.0  1077604.0  673320.0  131000.0  630000.0  890000.0   \n",
       "Method         6830.0        1.0       1.0       0.0       1.0       1.0   \n",
       "SellerG        6830.0      132.0      77.0       0.0      73.0     135.0   \n",
       "Distance       6830.0       10.0       6.0       0.0       6.0       9.0   \n",
       "Postcode       6830.0     3104.0      91.0    3000.0    3044.0    3083.0   \n",
       "Bathroom       6830.0        2.0       1.0       1.0       1.0       1.0   \n",
       "Car            6830.0        2.0       1.0       0.0       1.0       2.0   \n",
       "Landsize       6830.0      487.0     911.0       0.0     167.0     404.0   \n",
       "BuildingArea   6830.0      143.0      90.0       0.0      93.0     126.0   \n",
       "YearBuilt      6830.0     1964.0      38.0    1196.0    1940.0    1970.0   \n",
       "CouncilArea    6830.0       14.0      10.0      -1.0       2.0      15.0   \n",
       "Longtitude     6830.0      145.0       0.0     145.0     145.0     145.0   \n",
       "Regionname     6830.0        4.0       2.0       0.0       2.0       5.0   \n",
       "Propertycount  6830.0     7434.0    4352.0     389.0    4381.0    6567.0   \n",
       "\n",
       "                     75%        max  \n",
       "Rooms                4.0        8.0  \n",
       "Type                 1.0        2.0  \n",
       "Price          1334000.0  9000000.0  \n",
       "Method               1.0        4.0  \n",
       "SellerG            194.0      267.0  \n",
       "Distance            13.0       47.0  \n",
       "Postcode          3147.0     3977.0  \n",
       "Bathroom             2.0        8.0  \n",
       "Car                  2.0       10.0  \n",
       "Landsize           641.0    37000.0  \n",
       "BuildingArea       173.0     3112.0  \n",
       "YearBuilt         2000.0     2018.0  \n",
       "CouncilArea         23.0       32.0  \n",
       "Longtitude         145.0      146.0  \n",
       "Regionname           5.0        7.0  \n",
       "Propertycount    10175.0    21650.0  "
      ]
     },
     "execution_count": 8,
     "metadata": {},
     "output_type": "execute_result"
    }
   ],
   "source": [
    "housing.describe().round().transpose()"
   ]
  },
  {
   "cell_type": "code",
   "execution_count": 11,
   "metadata": {
    "scrolled": true
   },
   "outputs": [
    {
     "data": {
      "text/plain": [
       "Index(['Rooms', 'Type', 'Price', 'Method', 'SellerG', 'Distance', 'Postcode',\n",
       "       'Bathroom', 'Car', 'Landsize', 'BuildingArea', 'YearBuilt',\n",
       "       'CouncilArea', 'Longtitude', 'Regionname', 'Propertycount'],\n",
       "      dtype='object')"
      ]
     },
     "execution_count": 11,
     "metadata": {},
     "output_type": "execute_result"
    }
   ],
   "source": [
    "housing.columns"
   ]
  },
  {
   "cell_type": "code",
   "execution_count": 13,
   "metadata": {
    "scrolled": true
   },
   "outputs": [
    {
     "data": {
      "text/plain": [
       "Rooms            0\n",
       "Type             0\n",
       "Price            0\n",
       "Method           0\n",
       "SellerG          0\n",
       "Distance         0\n",
       "Postcode         0\n",
       "Bathroom         0\n",
       "Car              0\n",
       "Landsize         0\n",
       "BuildingArea     0\n",
       "YearBuilt        0\n",
       "CouncilArea      0\n",
       "Longtitude       0\n",
       "Regionname       0\n",
       "Propertycount    0\n",
       "dtype: int64"
      ]
     },
     "execution_count": 13,
     "metadata": {},
     "output_type": "execute_result"
    }
   ],
   "source": [
    "housing.isnull().sum()"
   ]
  },
  {
   "cell_type": "markdown",
   "metadata": {},
   "source": [
    "<p>Great! we don't have any null values in our data.</p>"
   ]
  },
  {
   "cell_type": "markdown",
   "metadata": {},
   "source": [
    "### Exploratory Data Analysis (EDA)\n",
    "<p>Let's create some simple plots to check out the data!</p>"
   ]
  },
  {
   "cell_type": "code",
   "execution_count": 19,
   "metadata": {
    "scrolled": true
   },
   "outputs": [
    {
     "data": {
      "image/png": "[encoded data removed]",
      "text/plain": [
       "<Figure size 504x360 with 1 Axes>"
      ]
     },
     "metadata": {
      "needs_background": "light"
     },
     "output_type": "display_data"
    }
   ],
   "source": [
    "plt.figure(figsize=(7,5))\n",
    "sns.distplot(housing['Price'])\n",
    "plt.show()"
   ]
  },
  {
   "cell_type": "markdown",
   "metadata": {},
   "source": [
    "<p>Positive skewness in target variable. </p>"
   ]
  },
  {
   "cell_type": "code",
   "execution_count": 21,
   "metadata": {
    "scrolled": false
   },
   "outputs": [
    {
     "data": {
      "image/png": "[encoded data removed]",
      "text/plain": [
       "<Figure size 1080x720 with 2 Axes>"
      ]
     },
     "metadata": {
      "needs_background": "light"
     },
     "output_type": "display_data"
    }
   ],
   "source": [
    "plt.figure(figsize=(15,10))\n",
    "sns.heatmap(housing.corr(), annot=True)\n",
    "plt.show()"
   ]
  },
  {
   "cell_type": "code",
   "execution_count": 60,
   "metadata": {
    "scrolled": false
   },
   "outputs": [
    {
     "data": {
      "image/png": "[encoded data removed]",
      "text/plain": [
       "<Figure size 1152x1152 with 16 Axes>"
      ]
     },
     "metadata": {
      "needs_background": "light"
     },
     "output_type": "display_data"
    }
   ],
   "source": [
    "housing1 = housing[['Rooms', 'Type', 'Price', 'Method','SellerG', 'Distance', 'Postcode',\n",
    "       'Bathroom', 'Car', 'Landsize', 'BuildingArea', 'YearBuilt',\n",
    "       'CouncilArea', 'Longtitude', 'Regionname', 'Propertycount']]\n",
    "h = housing1.hist(bins=25,figsize=(16,16),xlabelsize='10',ylabelsize='10',xrot=-15)\n",
    "sns.despine(left=True, bottom=True)\n",
    "[x.title.set_size(12) for x in h.ravel()];\n",
    "[x.yaxis.tick_left() for x in h.ravel()];"
   ]
  },
  {
   "cell_type": "markdown",
   "metadata": {},
   "source": [
    "<p>To determine bathroom,Type,Rooms or BuilgingArea vs price, I preferred boxplot to find outliers </p>"
   ]
  },
  {
   "cell_type": "code",
   "execution_count": 35,
   "metadata": {
    "scrolled": true
   },
   "outputs": [
    {
     "data": {
      "text/plain": [
       "1    3524\n",
       "2    2678\n",
       "3     535\n",
       "4      70\n",
       "5      18\n",
       "6       3\n",
       "7       1\n",
       "8       1\n",
       "Name: Bathroom, dtype: int64"
      ]
     },
     "execution_count": 35,
     "metadata": {},
     "output_type": "execute_result"
    }
   ],
   "source": [
    "housing['Bathroom'].value_counts()"
   ]
  },
  {
   "cell_type": "code",
   "execution_count": 36,
   "metadata": {
    "scrolled": true
   },
   "outputs": [
    {
     "data": {
      "text/plain": [
       "3    2840\n",
       "2    1784\n",
       "4    1498\n",
       "1     334\n",
       "5     331\n",
       "6      33\n",
       "7       6\n",
       "8       4\n",
       "Name: Rooms, dtype: int64"
      ]
     },
     "execution_count": 36,
     "metadata": {},
     "output_type": "execute_result"
    }
   ],
   "source": [
    "housing['Rooms'].value_counts()"
   ]
  },
  {
   "cell_type": "code",
   "execution_count": 9,
   "metadata": {
    "scrolled": false
   },
   "outputs": [
    {
     "data": {
      "image/png": "[encoded data removed]",
      "text/plain": [
       "<Figure size 864x576 with 1 Axes>"
      ]
     },
     "metadata": {
      "needs_background": "light"
     },
     "output_type": "display_data"
    }
   ],
   "source": [
    "plt.figure(figsize=(12,8))\n",
    "sns.boxplot(housing['Rooms'],housing['Price'])\n",
    "plt.show()"
   ]
  },
  {
   "cell_type": "markdown",
   "metadata": {},
   "source": [
    "#### Training a Linear Regression Model"
   ]
  },
  {
   "cell_type": "markdown",
   "metadata": {},
   "source": [
    "<p>Let's now begin to train out regression model! We will need to first split up our data into an X array that contains the features to train on, and a y array with the target variable, in this case the Price column. We will toss out the Address column because it only has text info that the linear regression model can't use.</p>"
   ]
  },
  {
   "cell_type": "markdown",
   "metadata": {},
   "source": [
    "#### X and y array"
   ]
  },
  {
   "cell_type": "markdown",
   "metadata": {},
   "source": [
    "<p>We will toss out the SellerG and Regionname column because it only has text info that the linear regression model can't use</p>"
   ]
  },
  {
   "cell_type": "code",
   "execution_count": 51,
   "metadata": {
    "scrolled": false
   },
   "outputs": [],
   "source": [
    "X = housing[['Rooms', 'Type', 'Method', 'SellerG', 'Distance', 'Postcode',\n",
    "       'Bathroom', 'Car', 'Landsize', 'BuildingArea', 'YearBuilt',\n",
    "       'CouncilArea', 'Longtitude', 'Regionname', 'Propertycount']]\n",
    "y = housing['Price']"
   ]
  },
  {
   "cell_type": "markdown",
   "metadata": {},
   "source": [
    "### Train Test Split"
   ]
  },
  {
   "cell_type": "markdown",
   "metadata": {},
   "source": [
    "<p>Now let's split the data into a training set and a testing set. We will train out model on the training set and then use the test set to evaluate the model.</p>"
   ]
  },
  {
   "cell_type": "code",
   "execution_count": 52,
   "metadata": {
    "scrolled": false
   },
   "outputs": [],
   "source": [
    "X_train, X_test, y_train, y_test = train_test_split(X, y, test_size=0.3, random_state=101)"
   ]
  },
  {
   "cell_type": "code",
   "execution_count": 53,
   "metadata": {
    "scrolled": false
   },
   "outputs": [],
   "source": [
    "def cross_val(model):\n",
    "    pred = cross_val_score(model, X, y, cv=10)\n",
    "    return pred.mean()\n",
    "\n",
    "def print_evaluate(true, predicted):  \n",
    "    mae = metrics.mean_absolute_error(true, predicted)\n",
    "    mse = metrics.mean_squared_error(true, predicted)\n",
    "    rmse = np.sqrt(metrics.mean_squared_error(true, predicted))\n",
    "    r2_square = metrics.r2_score(true, predicted)\n",
    "    print('MAE:', mae)\n",
    "    print('MSE:', mse)\n",
    "    print('RMSE:', rmse)\n",
    "    print('R2 Square', r2_square)\n",
    "    \n",
    "def evaluate(true, predicted):\n",
    "    mae = metrics.mean_absolute_error(true, predicted)\n",
    "    mse = metrics.mean_squared_error(true, predicted)\n",
    "    rmse = np.sqrt(metrics.mean_squared_error(true, predicted))\n",
    "    r2_square = metrics.r2_score(true, predicted)\n",
    "    return mae, mse, rmse, r2_square"
   ]
  },
  {
   "cell_type": "markdown",
   "metadata": {},
   "source": [
    "### 1. Linear Regression"
   ]
  },
  {
   "cell_type": "code",
   "execution_count": 54,
   "metadata": {
    "scrolled": false
   },
   "outputs": [
    {
     "data": {
      "text/plain": [
       "LinearRegression(normalize=True)"
      ]
     },
     "execution_count": 54,
     "metadata": {},
     "output_type": "execute_result"
    }
   ],
   "source": [
    "lin_reg = LinearRegression(normalize=True)\n",
    "lin_reg.fit(X_train,y_train)"
   ]
  },
  {
   "cell_type": "markdown",
   "metadata": {},
   "source": [
    "#### Model Evaluation"
   ]
  },
  {
   "cell_type": "code",
   "execution_count": 55,
   "metadata": {
    "scrolled": false
   },
   "outputs": [
    {
     "name": "stdout",
     "output_type": "stream",
     "text": [
      "-212526301.93078822\n"
     ]
    }
   ],
   "source": [
    "# print the intercept\n",
    "print(lin_reg.intercept_)"
   ]
  },
  {
   "cell_type": "code",
   "execution_count": 56,
   "metadata": {
    "scrolled": false
   },
   "outputs": [
    {
     "data": {
      "text/html": [
       "<div>\n",
       "<style scoped>\n",
       "    .dataframe tbody tr th:only-of-type {\n",
       "        vertical-align: middle;\n",
       "    }\n",
       "\n",
       "    .dataframe tbody tr th {\n",
       "        vertical-align: top;\n",
       "    }\n",
       "\n",
       "    .dataframe thead th {\n",
       "        text-align: right;\n",
       "    }\n",
       "</style>\n",
       "<table border=\"1\" class=\"dataframe\">\n",
       "  <thead>\n",
       "    <tr style=\"text-align: right;\">\n",
       "      <th></th>\n",
       "      <th>Coefficient</th>\n",
       "    </tr>\n",
       "  </thead>\n",
       "  <tbody>\n",
       "    <tr>\n",
       "      <td>Rooms</td>\n",
       "      <td>1.136632e+05</td>\n",
       "    </tr>\n",
       "    <tr>\n",
       "      <td>Type</td>\n",
       "      <td>-1.572044e+05</td>\n",
       "    </tr>\n",
       "    <tr>\n",
       "      <td>Method</td>\n",
       "      <td>-7.815151e+03</td>\n",
       "    </tr>\n",
       "    <tr>\n",
       "      <td>SellerG</td>\n",
       "      <td>-1.120576e+02</td>\n",
       "    </tr>\n",
       "    <tr>\n",
       "      <td>Distance</td>\n",
       "      <td>-4.510394e+04</td>\n",
       "    </tr>\n",
       "    <tr>\n",
       "      <td>Postcode</td>\n",
       "      <td>1.031130e+03</td>\n",
       "    </tr>\n",
       "    <tr>\n",
       "      <td>Bathroom</td>\n",
       "      <td>2.040887e+05</td>\n",
       "    </tr>\n",
       "    <tr>\n",
       "      <td>Car</td>\n",
       "      <td>5.314524e+04</td>\n",
       "    </tr>\n",
       "    <tr>\n",
       "      <td>Landsize</td>\n",
       "      <td>3.044532e+01</td>\n",
       "    </tr>\n",
       "    <tr>\n",
       "      <td>BuildingArea</td>\n",
       "      <td>1.564376e+03</td>\n",
       "    </tr>\n",
       "    <tr>\n",
       "      <td>YearBuilt</td>\n",
       "      <td>-3.360987e+03</td>\n",
       "    </tr>\n",
       "    <tr>\n",
       "      <td>CouncilArea</td>\n",
       "      <td>-3.090276e+03</td>\n",
       "    </tr>\n",
       "    <tr>\n",
       "      <td>Longtitude</td>\n",
       "      <td>1.492875e+06</td>\n",
       "    </tr>\n",
       "    <tr>\n",
       "      <td>Regionname</td>\n",
       "      <td>4.987984e+04</td>\n",
       "    </tr>\n",
       "    <tr>\n",
       "      <td>Propertycount</td>\n",
       "      <td>-1.760803e+00</td>\n",
       "    </tr>\n",
       "  </tbody>\n",
       "</table>\n",
       "</div>"
      ],
      "text/plain": [
       "                Coefficient\n",
       "Rooms          1.136632e+05\n",
       "Type          -1.572044e+05\n",
       "Method        -7.815151e+03\n",
       "SellerG       -1.120576e+02\n",
       "Distance      -4.510394e+04\n",
       "Postcode       1.031130e+03\n",
       "Bathroom       2.040887e+05\n",
       "Car            5.314524e+04\n",
       "Landsize       3.044532e+01\n",
       "BuildingArea   1.564376e+03\n",
       "YearBuilt     -3.360987e+03\n",
       "CouncilArea   -3.090276e+03\n",
       "Longtitude     1.492875e+06\n",
       "Regionname     4.987984e+04\n",
       "Propertycount -1.760803e+00"
      ]
     },
     "execution_count": 56,
     "metadata": {},
     "output_type": "execute_result"
    }
   ],
   "source": [
    "coeff_df = pd.DataFrame(data=lin_reg.coef_, index=X.columns, columns=['Coefficient'])\n",
    "coeff_df"
   ]
  },
  {
   "cell_type": "code",
   "execution_count": 57,
   "metadata": {
    "scrolled": false
   },
   "outputs": [
    {
     "data": {
      "text/html": [
       "<div>\n",
       "<style scoped>\n",
       "    .dataframe tbody tr th:only-of-type {\n",
       "        vertical-align: middle;\n",
       "    }\n",
       "\n",
       "    .dataframe tbody tr th {\n",
       "        vertical-align: top;\n",
       "    }\n",
       "\n",
       "    .dataframe thead th {\n",
       "        text-align: right;\n",
       "    }\n",
       "</style>\n",
       "<table border=\"1\" class=\"dataframe\">\n",
       "  <thead>\n",
       "    <tr style=\"text-align: right;\">\n",
       "      <th></th>\n",
       "      <th>Coefficient</th>\n",
       "    </tr>\n",
       "  </thead>\n",
       "  <tbody>\n",
       "    <tr>\n",
       "      <td>Rooms</td>\n",
       "      <td>113664.0</td>\n",
       "    </tr>\n",
       "    <tr>\n",
       "      <td>Type</td>\n",
       "      <td>-157204.0</td>\n",
       "    </tr>\n",
       "    <tr>\n",
       "      <td>Method</td>\n",
       "      <td>-7815.0</td>\n",
       "    </tr>\n",
       "    <tr>\n",
       "      <td>SellerG</td>\n",
       "      <td>-112.0</td>\n",
       "    </tr>\n",
       "    <tr>\n",
       "      <td>Distance</td>\n",
       "      <td>-45103.0</td>\n",
       "    </tr>\n",
       "    <tr>\n",
       "      <td>Postcode</td>\n",
       "      <td>1032.0</td>\n",
       "    </tr>\n",
       "    <tr>\n",
       "      <td>Bathroom</td>\n",
       "      <td>204089.0</td>\n",
       "    </tr>\n",
       "    <tr>\n",
       "      <td>Car</td>\n",
       "      <td>53146.0</td>\n",
       "    </tr>\n",
       "    <tr>\n",
       "      <td>Landsize</td>\n",
       "      <td>31.0</td>\n",
       "    </tr>\n",
       "    <tr>\n",
       "      <td>BuildingArea</td>\n",
       "      <td>1565.0</td>\n",
       "    </tr>\n",
       "    <tr>\n",
       "      <td>YearBuilt</td>\n",
       "      <td>-3360.0</td>\n",
       "    </tr>\n",
       "    <tr>\n",
       "      <td>CouncilArea</td>\n",
       "      <td>-3090.0</td>\n",
       "    </tr>\n",
       "    <tr>\n",
       "      <td>Longtitude</td>\n",
       "      <td>1492875.0</td>\n",
       "    </tr>\n",
       "    <tr>\n",
       "      <td>Regionname</td>\n",
       "      <td>49880.0</td>\n",
       "    </tr>\n",
       "    <tr>\n",
       "      <td>Propertycount</td>\n",
       "      <td>-1.0</td>\n",
       "    </tr>\n",
       "  </tbody>\n",
       "</table>\n",
       "</div>"
      ],
      "text/plain": [
       "               Coefficient\n",
       "Rooms             113664.0\n",
       "Type             -157204.0\n",
       "Method             -7815.0\n",
       "SellerG             -112.0\n",
       "Distance          -45103.0\n",
       "Postcode            1032.0\n",
       "Bathroom          204089.0\n",
       "Car                53146.0\n",
       "Landsize              31.0\n",
       "BuildingArea        1565.0\n",
       "YearBuilt          -3360.0\n",
       "CouncilArea        -3090.0\n",
       "Longtitude       1492875.0\n",
       "Regionname         49880.0\n",
       "Propertycount         -1.0"
      ]
     },
     "execution_count": 57,
     "metadata": {},
     "output_type": "execute_result"
    }
   ],
   "source": [
    "np.ceil(coeff_df)"
   ]
  },
  {
   "cell_type": "markdown",
   "metadata": {},
   "source": [
    "<p>Interpreting the coefficients: By obseving the coef of SellerG,Landsize and Propertycount has very less effect on price for Linear Regression. so we can remove on further operation if required.</p>"
   ]
  },
  {
   "cell_type": "markdown",
   "metadata": {},
   "source": [
    "#### Predictions from our Model"
   ]
  },
  {
   "cell_type": "code",
   "execution_count": 58,
   "metadata": {
    "scrolled": false
   },
   "outputs": [],
   "source": [
    "pred = lin_reg.predict(X_test)"
   ]
  },
  {
   "cell_type": "code",
   "execution_count": 59,
   "metadata": {
    "scrolled": false
   },
   "outputs": [
    {
     "data": {
      "text/plain": [
       "<matplotlib.collections.PathCollection at 0x1c92e38c948>"
      ]
     },
     "execution_count": 59,
     "metadata": {},
     "output_type": "execute_result"
    },
    {
     "data": {
      "image/png": "[encoded data removed]",
      "text/plain": [
       "<Figure size 432x288 with 1 Axes>"
      ]
     },
     "metadata": {
      "needs_background": "light"
     },
     "output_type": "display_data"
    }
   ],
   "source": [
    "plt.scatter(y_test, pred)"
   ]
  },
  {
   "cell_type": "code",
   "execution_count": 57,
   "metadata": {
    "scrolled": true
   },
   "outputs": [
    {
     "data": {
      "image/png": "[encoded data removed]",
      "text/plain": [
       "<Figure size 432x288 with 1 Axes>"
      ]
     },
     "metadata": {
      "needs_background": "light"
     },
     "output_type": "display_data"
    }
   ],
   "source": [
    "sns.distplot((y_test - pred), bins=50);"
   ]
  },
  {
   "cell_type": "markdown",
   "metadata": {},
   "source": [
    "#### Regression Evaluation Metrics"
   ]
  },
  {
   "cell_type": "code",
   "execution_count": 60,
   "metadata": {
    "scrolled": false
   },
   "outputs": [
    {
     "name": "stdout",
     "output_type": "stream",
     "text": [
      "MAE: 257716.00314685635\n",
      "MSE: 172886813943.61697\n",
      "RMSE: 415796.60164991365\n",
      "R2 Square 0.6217593786252815\n"
     ]
    }
   ],
   "source": [
    "print_evaluate(y_test, pred)"
   ]
  },
  {
   "cell_type": "code",
   "execution_count": 90,
   "metadata": {
    "scrolled": false
   },
   "outputs": [
    {
     "data": {
      "text/html": [
       "<div>\n",
       "<style scoped>\n",
       "    .dataframe tbody tr th:only-of-type {\n",
       "        vertical-align: middle;\n",
       "    }\n",
       "\n",
       "    .dataframe tbody tr th {\n",
       "        vertical-align: top;\n",
       "    }\n",
       "\n",
       "    .dataframe thead th {\n",
       "        text-align: right;\n",
       "    }\n",
       "</style>\n",
       "<table border=\"1\" class=\"dataframe\">\n",
       "  <thead>\n",
       "    <tr style=\"text-align: right;\">\n",
       "      <th></th>\n",
       "      <th>Model</th>\n",
       "      <th>MAE</th>\n",
       "      <th>MSE</th>\n",
       "      <th>RMSE</th>\n",
       "      <th>R2 Square</th>\n",
       "      <th>Cross Validation</th>\n",
       "    </tr>\n",
       "  </thead>\n",
       "  <tbody>\n",
       "    <tr>\n",
       "      <td>0</td>\n",
       "      <td>Linear Regression</td>\n",
       "      <td>255798.982918</td>\n",
       "      <td>1.881021e+11</td>\n",
       "      <td>433707.437786</td>\n",
       "      <td>0.588471</td>\n",
       "      <td>0.555979</td>\n",
       "    </tr>\n",
       "  </tbody>\n",
       "</table>\n",
       "</div>"
      ],
      "text/plain": [
       "               Model            MAE           MSE           RMSE  R2 Square  \\\n",
       "0  Linear Regression  255798.982918  1.881021e+11  433707.437786   0.588471   \n",
       "\n",
       "   Cross Validation  \n",
       "0          0.555979  "
      ]
     },
     "execution_count": 90,
     "metadata": {},
     "output_type": "execute_result"
    }
   ],
   "source": [
    "results_df = pd.DataFrame(data=[[\"Linear Regression\", *evaluate(y_test, pred) , cross_val(LinearRegression())]], \n",
    "                          columns=['Model', 'MAE', 'MSE', 'RMSE', 'R2 Square', \"Cross Validation\"])\n",
    "results_df"
   ]
  },
  {
   "cell_type": "markdown",
   "metadata": {},
   "source": [
    "<p>Huge difference in R2 square and Croos validation score. let see on other model too. </p>"
   ]
  },
  {
   "cell_type": "markdown",
   "metadata": {},
   "source": [
    "### 2. Ridge Regression"
   ]
  },
  {
   "cell_type": "markdown",
   "metadata": {},
   "source": [
    "<p>Ridge regression is an L2 penalized model. Add the squared sum of the weights to the least-squares cost function.</p>"
   ]
  },
  {
   "cell_type": "code",
   "execution_count": 66,
   "metadata": {
    "scrolled": false
   },
   "outputs": [
    {
     "name": "stdout",
     "output_type": "stream",
     "text": [
      "0.6217593786252782\n",
      "0.6218837202479865\n",
      "0.62193948111209\n",
      "0.6219386245258018\n",
      "0.6218910078865186\n",
      "0.6218047866777736\n",
      "0.6216867333918974\n",
      "0.6215424909317755\n",
      "0.6213767751794619\n",
      "0.6211935378544484\n",
      "0.620996098148928\n",
      "0.6207872496630623\n",
      "0.6205693476877348\n",
      "0.6203443807654485\n",
      "0.6201140296090151\n",
      "0.6198797158047125\n",
      "0.6196426422226575\n",
      "0.6194038266655981\n",
      "0.6191641299815855\n",
      "0.6189242796260478\n"
     ]
    }
   ],
   "source": [
    "for i in range(20):\n",
    "    l2 = Ridge(i)\n",
    "    l2.fit(X_train,y_train)\n",
    "    print(l2.score(X_test,y_test))"
   ]
  },
  {
   "cell_type": "code",
   "execution_count": 63,
   "metadata": {
    "scrolled": false
   },
   "outputs": [
    {
     "name": "stdout",
     "output_type": "stream",
     "text": [
      "MAE: 257095.07344735967\n",
      "MSE: 172804883947.46585\n",
      "RMSE: 415698.06825082295\n",
      "R2 Square 0.6219386245258018\n"
     ]
    }
   ],
   "source": [
    "model = Ridge(alpha=3)\n",
    "model.fit(X_train, y_train)\n",
    "pred = model.predict(X_test)\n",
    "\n",
    "print_evaluate(y_test, pred)"
   ]
  },
  {
   "cell_type": "code",
   "execution_count": 91,
   "metadata": {
    "scrolled": false
   },
   "outputs": [
    {
     "data": {
      "text/html": [
       "<div>\n",
       "<style scoped>\n",
       "    .dataframe tbody tr th:only-of-type {\n",
       "        vertical-align: middle;\n",
       "    }\n",
       "\n",
       "    .dataframe tbody tr th {\n",
       "        vertical-align: top;\n",
       "    }\n",
       "\n",
       "    .dataframe thead th {\n",
       "        text-align: right;\n",
       "    }\n",
       "</style>\n",
       "<table border=\"1\" class=\"dataframe\">\n",
       "  <thead>\n",
       "    <tr style=\"text-align: right;\">\n",
       "      <th></th>\n",
       "      <th>Model</th>\n",
       "      <th>MAE</th>\n",
       "      <th>MSE</th>\n",
       "      <th>RMSE</th>\n",
       "      <th>R2 Square</th>\n",
       "      <th>Cross Validation</th>\n",
       "    </tr>\n",
       "  </thead>\n",
       "  <tbody>\n",
       "    <tr>\n",
       "      <td>0</td>\n",
       "      <td>Linear Regression</td>\n",
       "      <td>255798.982918</td>\n",
       "      <td>1.881021e+11</td>\n",
       "      <td>433707.437786</td>\n",
       "      <td>0.588471</td>\n",
       "      <td>0.555979</td>\n",
       "    </tr>\n",
       "    <tr>\n",
       "      <td>1</td>\n",
       "      <td>Ridge Regression</td>\n",
       "      <td>255798.982918</td>\n",
       "      <td>1.881021e+11</td>\n",
       "      <td>433707.437786</td>\n",
       "      <td>0.588471</td>\n",
       "      <td>0.555998</td>\n",
       "    </tr>\n",
       "  </tbody>\n",
       "</table>\n",
       "</div>"
      ],
      "text/plain": [
       "               Model            MAE           MSE           RMSE  R2 Square  \\\n",
       "0  Linear Regression  255798.982918  1.881021e+11  433707.437786   0.588471   \n",
       "1   Ridge Regression  255798.982918  1.881021e+11  433707.437786   0.588471   \n",
       "\n",
       "   Cross Validation  \n",
       "0          0.555979  \n",
       "1          0.555998  "
      ]
     },
     "execution_count": 91,
     "metadata": {},
     "output_type": "execute_result"
    }
   ],
   "source": [
    "results_df_2 = pd.DataFrame(data=[[\"Ridge Regression\", *evaluate(y_test, pred) , cross_val(Ridge())]], \n",
    "                            columns=['Model', 'MAE', 'MSE', 'RMSE', 'R2 Square', \"Cross Validation\"])\n",
    "results_df = results_df.append(results_df_2, ignore_index=True)\n",
    "results_df"
   ]
  },
  {
   "cell_type": "markdown",
   "metadata": {},
   "source": [
    "### 3. LASSO Regression"
   ]
  },
  {
   "cell_type": "markdown",
   "metadata": {},
   "source": [
    "<p>A linear model that estimates sparse coefficients.</p>"
   ]
  },
  {
   "cell_type": "code",
   "execution_count": 71,
   "metadata": {
    "scrolled": false
   },
   "outputs": [
    {
     "name": "stdout",
     "output_type": "stream",
     "text": [
      "0.6217593786252816\n",
      "0.6217598076148798\n",
      "0.6217602355895135\n",
      "0.6217606628768857\n",
      "0.6217610892748535\n",
      "0.6217615148844932\n",
      "0.6217619397058151\n",
      "0.6217623637388131\n",
      "0.6217627869834901\n",
      "0.6217632094398495\n"
     ]
    }
   ],
   "source": [
    "for i in range(0,10,1):\n",
    "    l1 = Lasso(i)\n",
    "    l1.fit(X_train,y_train)\n",
    "    print(l1.score(X_test,y_test))"
   ]
  },
  {
   "cell_type": "code",
   "execution_count": 65,
   "metadata": {
    "scrolled": false
   },
   "outputs": [
    {
     "name": "stdout",
     "output_type": "stream",
     "text": [
      "MAE: 257714.93060308127\n",
      "MSE: 172886617860.38135\n",
      "RMSE: 415796.365857593\n",
      "R2 Square 0.6217598076148798\n"
     ]
    }
   ],
   "source": [
    "model = Lasso()\n",
    "model.fit(X_train, y_train)\n",
    "pred = model.predict(X_test)\n",
    "\n",
    "print_evaluate(y_test, pred)\n"
   ]
  },
  {
   "cell_type": "code",
   "execution_count": 92,
   "metadata": {
    "scrolled": false
   },
   "outputs": [
    {
     "data": {
      "text/html": [
       "<div>\n",
       "<style scoped>\n",
       "    .dataframe tbody tr th:only-of-type {\n",
       "        vertical-align: middle;\n",
       "    }\n",
       "\n",
       "    .dataframe tbody tr th {\n",
       "        vertical-align: top;\n",
       "    }\n",
       "\n",
       "    .dataframe thead th {\n",
       "        text-align: right;\n",
       "    }\n",
       "</style>\n",
       "<table border=\"1\" class=\"dataframe\">\n",
       "  <thead>\n",
       "    <tr style=\"text-align: right;\">\n",
       "      <th></th>\n",
       "      <th>Model</th>\n",
       "      <th>MAE</th>\n",
       "      <th>MSE</th>\n",
       "      <th>RMSE</th>\n",
       "      <th>R2 Square</th>\n",
       "      <th>Cross Validation</th>\n",
       "    </tr>\n",
       "  </thead>\n",
       "  <tbody>\n",
       "    <tr>\n",
       "      <td>0</td>\n",
       "      <td>Linear Regression</td>\n",
       "      <td>255798.982918</td>\n",
       "      <td>1.881021e+11</td>\n",
       "      <td>433707.437786</td>\n",
       "      <td>0.588471</td>\n",
       "      <td>0.555979</td>\n",
       "    </tr>\n",
       "    <tr>\n",
       "      <td>1</td>\n",
       "      <td>Ridge Regression</td>\n",
       "      <td>255798.982918</td>\n",
       "      <td>1.881021e+11</td>\n",
       "      <td>433707.437786</td>\n",
       "      <td>0.588471</td>\n",
       "      <td>0.555998</td>\n",
       "    </tr>\n",
       "    <tr>\n",
       "      <td>2</td>\n",
       "      <td>Lasso Regression</td>\n",
       "      <td>255798.982918</td>\n",
       "      <td>1.881021e+11</td>\n",
       "      <td>433707.437786</td>\n",
       "      <td>0.588471</td>\n",
       "      <td>0.555980</td>\n",
       "    </tr>\n",
       "  </tbody>\n",
       "</table>\n",
       "</div>"
      ],
      "text/plain": [
       "               Model            MAE           MSE           RMSE  R2 Square  \\\n",
       "0  Linear Regression  255798.982918  1.881021e+11  433707.437786   0.588471   \n",
       "1   Ridge Regression  255798.982918  1.881021e+11  433707.437786   0.588471   \n",
       "2   Lasso Regression  255798.982918  1.881021e+11  433707.437786   0.588471   \n",
       "\n",
       "   Cross Validation  \n",
       "0          0.555979  \n",
       "1          0.555998  \n",
       "2          0.555980  "
      ]
     },
     "execution_count": 92,
     "metadata": {},
     "output_type": "execute_result"
    }
   ],
   "source": [
    "results_df_2 = pd.DataFrame(data=[[\"Lasso Regression\", *evaluate(y_test, pred) , cross_val(Lasso())]], \n",
    "                            columns=['Model', 'MAE', 'MSE', 'RMSE', 'R2 Square', \"Cross Validation\"])\n",
    "results_df = results_df.append(results_df_2, ignore_index=True)\n",
    "results_df"
   ]
  },
  {
   "cell_type": "markdown",
   "metadata": {},
   "source": [
    "### 4. Polynomial Regression"
   ]
  },
  {
   "cell_type": "markdown",
   "metadata": {},
   "source": [
    "<p>One common pattern within machine learning is to use linear models trained on nonlinear functions of the data. This approach maintains the generally fast performance of linear methods, while allowing them to fit a much wider range of data</p>"
   ]
  },
  {
   "cell_type": "code",
   "execution_count": 67,
   "metadata": {
    "scrolled": false
   },
   "outputs": [],
   "source": [
    "X = housing[['Rooms', 'Type', 'Distance', 'Postcode',\n",
    "       'Bathroom', 'Car', 'BuildingArea', 'YearBuilt',\n",
    "       'CouncilArea', 'Longtitude']]\n",
    "y = housing['Price']"
   ]
  },
  {
   "cell_type": "code",
   "execution_count": 68,
   "metadata": {
    "scrolled": false
   },
   "outputs": [
    {
     "name": "stdout",
     "output_type": "stream",
     "text": [
      "MAE: 220253.46785866068\n",
      "MSE: 200582389831.8085\n",
      "RMSE: 447864.2537999751\n",
      "R2 Square 0.5611671819485782\n"
     ]
    }
   ],
   "source": [
    "poly_reg = PolynomialFeatures(degree=2)\n",
    "X_poly = poly_reg.fit_transform(X)\n",
    "\n",
    "X_train, X_test, y_train, y_test = train_test_split(X_poly, y, test_size=0.3, random_state=101)\n",
    "\n",
    "lin_reg = LinearRegression(normalize=True)\n",
    "lin_reg.fit(X_train,y_train)\n",
    "pred = lin_reg.predict(X_test)\n",
    "\n",
    "print_evaluate(y_test, pred)"
   ]
  },
  {
   "cell_type": "code",
   "execution_count": 93,
   "metadata": {
    "scrolled": false
   },
   "outputs": [
    {
     "data": {
      "text/html": [
       "<div>\n",
       "<style scoped>\n",
       "    .dataframe tbody tr th:only-of-type {\n",
       "        vertical-align: middle;\n",
       "    }\n",
       "\n",
       "    .dataframe tbody tr th {\n",
       "        vertical-align: top;\n",
       "    }\n",
       "\n",
       "    .dataframe thead th {\n",
       "        text-align: right;\n",
       "    }\n",
       "</style>\n",
       "<table border=\"1\" class=\"dataframe\">\n",
       "  <thead>\n",
       "    <tr style=\"text-align: right;\">\n",
       "      <th></th>\n",
       "      <th>Model</th>\n",
       "      <th>MAE</th>\n",
       "      <th>MSE</th>\n",
       "      <th>RMSE</th>\n",
       "      <th>R2 Square</th>\n",
       "      <th>Cross Validation</th>\n",
       "    </tr>\n",
       "  </thead>\n",
       "  <tbody>\n",
       "    <tr>\n",
       "      <td>0</td>\n",
       "      <td>Linear Regression</td>\n",
       "      <td>255798.982918</td>\n",
       "      <td>1.881021e+11</td>\n",
       "      <td>433707.437786</td>\n",
       "      <td>0.588471</td>\n",
       "      <td>0.555979</td>\n",
       "    </tr>\n",
       "    <tr>\n",
       "      <td>1</td>\n",
       "      <td>Ridge Regression</td>\n",
       "      <td>255798.982918</td>\n",
       "      <td>1.881021e+11</td>\n",
       "      <td>433707.437786</td>\n",
       "      <td>0.588471</td>\n",
       "      <td>0.555998</td>\n",
       "    </tr>\n",
       "    <tr>\n",
       "      <td>2</td>\n",
       "      <td>Lasso Regression</td>\n",
       "      <td>255798.982918</td>\n",
       "      <td>1.881021e+11</td>\n",
       "      <td>433707.437786</td>\n",
       "      <td>0.588471</td>\n",
       "      <td>0.555980</td>\n",
       "    </tr>\n",
       "    <tr>\n",
       "      <td>3</td>\n",
       "      <td>Polynomail Regression</td>\n",
       "      <td>255798.982918</td>\n",
       "      <td>1.881021e+11</td>\n",
       "      <td>433707.437786</td>\n",
       "      <td>0.588471</td>\n",
       "      <td>0.000000</td>\n",
       "    </tr>\n",
       "  </tbody>\n",
       "</table>\n",
       "</div>"
      ],
      "text/plain": [
       "                   Model            MAE           MSE           RMSE  \\\n",
       "0      Linear Regression  255798.982918  1.881021e+11  433707.437786   \n",
       "1       Ridge Regression  255798.982918  1.881021e+11  433707.437786   \n",
       "2       Lasso Regression  255798.982918  1.881021e+11  433707.437786   \n",
       "3  Polynomail Regression  255798.982918  1.881021e+11  433707.437786   \n",
       "\n",
       "   R2 Square  Cross Validation  \n",
       "0   0.588471          0.555979  \n",
       "1   0.588471          0.555998  \n",
       "2   0.588471          0.555980  \n",
       "3   0.588471          0.000000  "
      ]
     },
     "execution_count": 93,
     "metadata": {},
     "output_type": "execute_result"
    }
   ],
   "source": [
    "results_df_2 = pd.DataFrame(data=[[\"Polynomail Regression\", *evaluate(y_test, pred),0]], \n",
    "                            columns=['Model', 'MAE', 'MSE', 'RMSE', 'R2 Square', 'Cross Validation'])\n",
    "results_df = results_df.append(results_df_2, ignore_index=True)\n",
    "results_df"
   ]
  },
  {
   "cell_type": "markdown",
   "metadata": {},
   "source": [
    "<h3>5. KNN Regression </h3> "
   ]
  },
  {
   "cell_type": "code",
   "execution_count": 73,
   "metadata": {},
   "outputs": [],
   "source": [
    "scaler = StandardScaler()"
   ]
  },
  {
   "cell_type": "code",
   "execution_count": 74,
   "metadata": {},
   "outputs": [],
   "source": [
    "scaled_features = scaler.fit_transform(X)"
   ]
  },
  {
   "cell_type": "code",
   "execution_count": 75,
   "metadata": {},
   "outputs": [
    {
     "data": {
      "text/html": [
       "<div>\n",
       "<style scoped>\n",
       "    .dataframe tbody tr th:only-of-type {\n",
       "        vertical-align: middle;\n",
       "    }\n",
       "\n",
       "    .dataframe tbody tr th {\n",
       "        vertical-align: top;\n",
       "    }\n",
       "\n",
       "    .dataframe thead th {\n",
       "        text-align: right;\n",
       "    }\n",
       "</style>\n",
       "<table border=\"1\" class=\"dataframe\">\n",
       "  <thead>\n",
       "    <tr style=\"text-align: right;\">\n",
       "      <th></th>\n",
       "      <th>Rooms</th>\n",
       "      <th>Type</th>\n",
       "      <th>Distance</th>\n",
       "      <th>Postcode</th>\n",
       "      <th>Bathroom</th>\n",
       "      <th>Car</th>\n",
       "      <th>BuildingArea</th>\n",
       "      <th>YearBuilt</th>\n",
       "      <th>CouncilArea</th>\n",
       "      <th>Longtitude</th>\n",
       "    </tr>\n",
       "  </thead>\n",
       "  <tbody>\n",
       "    <tr>\n",
       "      <td>0</td>\n",
       "      <td>-1.008014</td>\n",
       "      <td>-0.649125</td>\n",
       "      <td>-1.276745</td>\n",
       "      <td>-0.408568</td>\n",
       "      <td>-0.831768</td>\n",
       "      <td>-1.701224</td>\n",
       "      <td>-0.716359</td>\n",
       "      <td>-1.709230</td>\n",
       "      <td>1.677666</td>\n",
       "      <td>0.014505</td>\n",
       "    </tr>\n",
       "    <tr>\n",
       "      <td>1</td>\n",
       "      <td>0.022481</td>\n",
       "      <td>-0.649125</td>\n",
       "      <td>-1.276745</td>\n",
       "      <td>-0.408568</td>\n",
       "      <td>0.568177</td>\n",
       "      <td>-1.701224</td>\n",
       "      <td>0.072845</td>\n",
       "      <td>-1.709230</td>\n",
       "      <td>1.677666</td>\n",
       "      <td>0.024031</td>\n",
       "    </tr>\n",
       "    <tr>\n",
       "      <td>2</td>\n",
       "      <td>1.052976</td>\n",
       "      <td>-0.649125</td>\n",
       "      <td>-1.276745</td>\n",
       "      <td>-0.408568</td>\n",
       "      <td>-0.831768</td>\n",
       "      <td>0.416199</td>\n",
       "      <td>-0.016080</td>\n",
       "      <td>1.314356</td>\n",
       "      <td>1.677666</td>\n",
       "      <td>0.021173</td>\n",
       "    </tr>\n",
       "    <tr>\n",
       "      <td>3</td>\n",
       "      <td>0.022481</td>\n",
       "      <td>-0.649125</td>\n",
       "      <td>-1.276745</td>\n",
       "      <td>-0.408568</td>\n",
       "      <td>0.568177</td>\n",
       "      <td>-1.701224</td>\n",
       "      <td>0.739777</td>\n",
       "      <td>-1.444003</td>\n",
       "      <td>1.677666</td>\n",
       "      <td>0.070709</td>\n",
       "    </tr>\n",
       "    <tr>\n",
       "      <td>4</td>\n",
       "      <td>-1.008014</td>\n",
       "      <td>-0.649125</td>\n",
       "      <td>-1.276745</td>\n",
       "      <td>-0.408568</td>\n",
       "      <td>-0.831768</td>\n",
       "      <td>0.416199</td>\n",
       "      <td>-0.405124</td>\n",
       "      <td>-1.974457</td>\n",
       "      <td>1.677666</td>\n",
       "      <td>0.033557</td>\n",
       "    </tr>\n",
       "  </tbody>\n",
       "</table>\n",
       "</div>"
      ],
      "text/plain": [
       "      Rooms      Type  Distance  Postcode  Bathroom       Car  BuildingArea  \\\n",
       "0 -1.008014 -0.649125 -1.276745 -0.408568 -0.831768 -1.701224     -0.716359   \n",
       "1  0.022481 -0.649125 -1.276745 -0.408568  0.568177 -1.701224      0.072845   \n",
       "2  1.052976 -0.649125 -1.276745 -0.408568 -0.831768  0.416199     -0.016080   \n",
       "3  0.022481 -0.649125 -1.276745 -0.408568  0.568177 -1.701224      0.739777   \n",
       "4 -1.008014 -0.649125 -1.276745 -0.408568 -0.831768  0.416199     -0.405124   \n",
       "\n",
       "   YearBuilt  CouncilArea  Longtitude  \n",
       "0  -1.709230     1.677666    0.014505  \n",
       "1  -1.709230     1.677666    0.024031  \n",
       "2   1.314356     1.677666    0.021173  \n",
       "3  -1.444003     1.677666    0.070709  \n",
       "4  -1.974457     1.677666    0.033557  "
      ]
     },
     "execution_count": 75,
     "metadata": {},
     "output_type": "execute_result"
    }
   ],
   "source": [
    "scaled_features = pd.DataFrame(scaled_features,columns=X.columns)\n",
    "scaled_features.head()"
   ]
  },
  {
   "cell_type": "code",
   "execution_count": 76,
   "metadata": {},
   "outputs": [],
   "source": [
    "X = scaled_features\n",
    "y = housing['Price']\n",
    "X_train,X_test,y_train,y_test = train_test_split(X,y,test_size=0.3,random_state=101)"
   ]
  },
  {
   "cell_type": "markdown",
   "metadata": {},
   "source": [
    "<strong>Choosing a K Value that would best fit our model</strong>"
   ]
  },
  {
   "cell_type": "code",
   "execution_count": 101,
   "metadata": {},
   "outputs": [],
   "source": [
    "error_rate = []\n",
    "\n",
    "for i in range(1,11):\n",
    "    \n",
    "    knn = KNeighborsRegressor(n_neighbors=i)\n",
    "    knn.fit(X_train,y_train)\n",
    "    y_pred = knn.predict(X_test)\n",
    "    error_rate.append(np.mean(y_pred != y_test))"
   ]
  },
  {
   "cell_type": "code",
   "execution_count": 102,
   "metadata": {},
   "outputs": [
    {
     "data": {
      "text/plain": [
       "Text(0, 0.5, 'Error Rate')"
      ]
     },
     "execution_count": 102,
     "metadata": {},
     "output_type": "execute_result"
    },
    {
     "data": {
      "image/png": "[encoded data removed]",
      "text/plain": [
       "<Figure size 720x432 with 1 Axes>"
      ]
     },
     "metadata": {
      "needs_background": "light"
     },
     "output_type": "display_data"
    }
   ],
   "source": [
    "plt.figure(figsize=(10,6))\n",
    "plt.plot(range(1,11),error_rate,color='blue', linestyle='dashed', marker='o',\n",
    "         markerfacecolor='red', markersize=10)\n",
    "plt.title('Error Rate vs. K Value')\n",
    "plt.xlabel('K Value')\n",
    "plt.ylabel('Error Rate')"
   ]
  },
  {
   "cell_type": "code",
   "execution_count": 104,
   "metadata": {},
   "outputs": [
    {
     "name": "stdout",
     "output_type": "stream",
     "text": [
      "MAE: 255798.98291849683\n",
      "MSE: 188102141590.74475\n",
      "RMSE: 433707.4377858244\n",
      "R2 Square 0.5884713860225232\n"
     ]
    }
   ],
   "source": [
    "knn = KNeighborsRegressor(n_neighbors=1)\n",
    "knn.fit(X_train,y_train)\n",
    "pred = knn.predict(X_test)\n",
    "print_evaluate(y_test, pred)"
   ]
  },
  {
   "cell_type": "code",
   "execution_count": 105,
   "metadata": {},
   "outputs": [
    {
     "data": {
      "text/html": [
       "<div>\n",
       "<style scoped>\n",
       "    .dataframe tbody tr th:only-of-type {\n",
       "        vertical-align: middle;\n",
       "    }\n",
       "\n",
       "    .dataframe tbody tr th {\n",
       "        vertical-align: top;\n",
       "    }\n",
       "\n",
       "    .dataframe thead th {\n",
       "        text-align: right;\n",
       "    }\n",
       "</style>\n",
       "<table border=\"1\" class=\"dataframe\">\n",
       "  <thead>\n",
       "    <tr style=\"text-align: right;\">\n",
       "      <th></th>\n",
       "      <th>Model</th>\n",
       "      <th>MAE</th>\n",
       "      <th>MSE</th>\n",
       "      <th>RMSE</th>\n",
       "      <th>R2 Square</th>\n",
       "      <th>Cross Validation</th>\n",
       "    </tr>\n",
       "  </thead>\n",
       "  <tbody>\n",
       "    <tr>\n",
       "      <td>0</td>\n",
       "      <td>Linear Regression</td>\n",
       "      <td>255798.982918</td>\n",
       "      <td>1.881021e+11</td>\n",
       "      <td>433707.437786</td>\n",
       "      <td>0.588471</td>\n",
       "      <td>0.555979</td>\n",
       "    </tr>\n",
       "    <tr>\n",
       "      <td>1</td>\n",
       "      <td>Ridge Regression</td>\n",
       "      <td>255798.982918</td>\n",
       "      <td>1.881021e+11</td>\n",
       "      <td>433707.437786</td>\n",
       "      <td>0.588471</td>\n",
       "      <td>0.555998</td>\n",
       "    </tr>\n",
       "    <tr>\n",
       "      <td>2</td>\n",
       "      <td>Lasso Regression</td>\n",
       "      <td>255798.982918</td>\n",
       "      <td>1.881021e+11</td>\n",
       "      <td>433707.437786</td>\n",
       "      <td>0.588471</td>\n",
       "      <td>0.555980</td>\n",
       "    </tr>\n",
       "    <tr>\n",
       "      <td>3</td>\n",
       "      <td>Polynomail Regression</td>\n",
       "      <td>255798.982918</td>\n",
       "      <td>1.881021e+11</td>\n",
       "      <td>433707.437786</td>\n",
       "      <td>0.588471</td>\n",
       "      <td>0.000000</td>\n",
       "    </tr>\n",
       "    <tr>\n",
       "      <td>4</td>\n",
       "      <td>KNN Regression</td>\n",
       "      <td>255798.982918</td>\n",
       "      <td>1.881021e+11</td>\n",
       "      <td>433707.437786</td>\n",
       "      <td>0.588471</td>\n",
       "      <td>0.008785</td>\n",
       "    </tr>\n",
       "  </tbody>\n",
       "</table>\n",
       "</div>"
      ],
      "text/plain": [
       "                   Model            MAE           MSE           RMSE  \\\n",
       "0      Linear Regression  255798.982918  1.881021e+11  433707.437786   \n",
       "1       Ridge Regression  255798.982918  1.881021e+11  433707.437786   \n",
       "2       Lasso Regression  255798.982918  1.881021e+11  433707.437786   \n",
       "3  Polynomail Regression  255798.982918  1.881021e+11  433707.437786   \n",
       "4         KNN Regression  255798.982918  1.881021e+11  433707.437786   \n",
       "\n",
       "   R2 Square  Cross Validation  \n",
       "0   0.588471          0.555979  \n",
       "1   0.588471          0.555998  \n",
       "2   0.588471          0.555980  \n",
       "3   0.588471          0.000000  \n",
       "4   0.588471          0.008785  "
      ]
     },
     "execution_count": 105,
     "metadata": {},
     "output_type": "execute_result"
    }
   ],
   "source": [
    "results_df_2 = pd.DataFrame(data=[[\"KNN Regression\", *evaluate(y_test, pred) , cross_val(KNeighborsClassifier())]], \n",
    "                          columns=['Model', 'MAE', 'MSE', 'RMSE', 'R2 Square', \"Cross Validation\"])\n",
    "results_df = results_df.append(results_df_2, ignore_index=True)\n",
    "results_df"
   ]
  },
  {
   "cell_type": "markdown",
   "metadata": {},
   "source": [
    "### Summary:"
   ]
  },
  {
   "cell_type": "markdown",
   "metadata": {},
   "source": [
    "<p>In this notebook you discovered the linear regression algorithm for machine learning.<p>\n",
    "\n",
    "<p>You covered a lot of ground including:</p>\n",
    "<ul>\n",
    "<li>The common linear regression models (Ridge, Lasso,Polynomial, ...).</li>\n",
    "<li>The representation used by the model.</li>\n",
    "<li>Learning algorithms used to estimate the coefficients in the model.</li>\n",
    "<li>Rules of thumb to consider when preparing data for use with linear regression.</li>\n",
    "<li>How to evaluate a linear regression model.</li>\n",
    "</ul>"
   ]
  },
  {
   "cell_type": "markdown",
   "metadata": {},
   "source": [
    "### Conclusion:"
   ]
  },
  {
   "cell_type": "markdown",
   "metadata": {},
   "source": [
    "<p>When we look at the evaluation table, 2nd degree polynomial (some features are included, no preprocessing) is the best. However, I have doubts about its reliability. I would prefer the  ridge/lasso regression  but other models might be useful depending to the situation too.</p>"
   ]
  },
  {
   "cell_type": "code",
   "execution_count": null,
   "metadata": {
    "scrolled": false
   },
   "outputs": [],
   "source": []
  }
 ],
 "metadata": {
  "kernelspec": {
   "display_name": "Python 3",
   "language": "python",
   "name": "python3"
  },
  "language_info": {
   "codemirror_mode": {
    "name": "ipython",
    "version": 3
   },
   "file_extension": ".py",
   "mimetype": "text/x-python",
   "name": "python",
   "nbconvert_exporter": "python",
   "pygments_lexer": "ipython3",
   "version": "3.7.4"
  }
 },
 "nbformat": 4,
 "nbformat_minor": 2
}
